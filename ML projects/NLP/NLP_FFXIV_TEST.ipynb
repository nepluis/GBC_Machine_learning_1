{
 "cells": [
  {
   "cell_type": "code",
   "execution_count": 1,
   "metadata": {},
   "outputs": [],
   "source": [
    "import numpy as np\n",
    "import pandas as pd\n",
    "import nltk\n",
    "#nltk.download('punkt') # one time execution\n",
    "import re\n",
    "from nltk.tokenize import sent_tokenize\n",
    "from sklearn.metrics.pairwise import cosine_similarity\n",
    "import networkx as nx"
   ]
  },
  {
   "cell_type": "code",
   "execution_count": 4,
   "metadata": {},
   "outputs": [],
   "source": [
    "df= pd.read_csv(\"FFXIV.csv\",encoding = \"ISO-8859-1\")"
   ]
  },
  {
   "cell_type": "code",
   "execution_count": 5,
   "metadata": {},
   "outputs": [
    {
     "data": {
      "text/html": [
       "<div>\n",
       "<style scoped>\n",
       "    .dataframe tbody tr th:only-of-type {\n",
       "        vertical-align: middle;\n",
       "    }\n",
       "\n",
       "    .dataframe tbody tr th {\n",
       "        vertical-align: top;\n",
       "    }\n",
       "\n",
       "    .dataframe thead th {\n",
       "        text-align: right;\n",
       "    }\n",
       "</style>\n",
       "<table border=\"1\" class=\"dataframe\">\n",
       "  <thead>\n",
       "    <tr style=\"text-align: right;\">\n",
       "      <th></th>\n",
       "      <th>ARTICLE</th>\n",
       "      <th>ARTICLE_TEXT</th>\n",
       "      <th>SOURCE</th>\n",
       "    </tr>\n",
       "  </thead>\n",
       "  <tbody>\n",
       "    <tr>\n",
       "      <th>0</th>\n",
       "      <td>1</td>\n",
       "      <td>Welcome to FINAL FANTASY? XIV (the \"Game\" or t...</td>\n",
       "      <td>https://support.na.square-enix.com/rule.php?id...</td>\n",
       "    </tr>\n",
       "    <tr>\n",
       "      <th>1</th>\n",
       "      <td>2</td>\n",
       "      <td>LICENSE LIMITATIONS\\nThe Game is a carefully c...</td>\n",
       "      <td>https://support.na.square-enix.com/rule.php?id...</td>\n",
       "    </tr>\n",
       "    <tr>\n",
       "      <th>2</th>\n",
       "      <td>3</td>\n",
       "      <td>PROHIBITED ACTIVITIES\\nIn addition to the Lice...</td>\n",
       "      <td>https://support.na.square-enix.com/rule.php?id...</td>\n",
       "    </tr>\n",
       "    <tr>\n",
       "      <th>3</th>\n",
       "      <td>4</td>\n",
       "      <td>BILLING PROCEDURES AND RECURRING TRANSACTIONS...</td>\n",
       "      <td>https://support.na.square-enix.com/rule.php?id...</td>\n",
       "    </tr>\n",
       "    <tr>\n",
       "      <th>4</th>\n",
       "      <td>5</td>\n",
       "      <td>INTERRUPTION TO THE SERVICE\\nFrom time to time...</td>\n",
       "      <td>https://support.na.square-enix.com/rule.php?id...</td>\n",
       "    </tr>\n",
       "  </tbody>\n",
       "</table>\n",
       "</div>"
      ],
      "text/plain": [
       "   ARTICLE                                       ARTICLE_TEXT  \\\n",
       "0        1  Welcome to FINAL FANTASY? XIV (the \"Game\" or t...   \n",
       "1        2  LICENSE LIMITATIONS\\nThe Game is a carefully c...   \n",
       "2        3  PROHIBITED ACTIVITIES\\nIn addition to the Lice...   \n",
       "3        4   BILLING PROCEDURES AND RECURRING TRANSACTIONS...   \n",
       "4        5  INTERRUPTION TO THE SERVICE\\nFrom time to time...   \n",
       "\n",
       "                                              SOURCE  \n",
       "0  https://support.na.square-enix.com/rule.php?id...  \n",
       "1  https://support.na.square-enix.com/rule.php?id...  \n",
       "2  https://support.na.square-enix.com/rule.php?id...  \n",
       "3  https://support.na.square-enix.com/rule.php?id...  \n",
       "4  https://support.na.square-enix.com/rule.php?id...  "
      ]
     },
     "execution_count": 5,
     "metadata": {},
     "output_type": "execute_result"
    }
   ],
   "source": [
    "df.head()"
   ]
  },
  {
   "cell_type": "code",
   "execution_count": 8,
   "metadata": {},
   "outputs": [
    {
     "data": {
      "text/plain": [
       "'Welcome to FINAL FANTASY? XIV (the \"Game\" or the \"Service\"). In order to play the Game, you (\"You\" or \"User\") must first agree to this FINAL FANTASY XIV User Agreement (\"User Agreement\") between you and Square Enix, Inc. (\"Square Enix\"). PLEASE READ THIS USER AGREEMENT CAREFULLY. If you agree by checking the box next to the statement \"I accept the User Agreement\" or \"I accept the terms of the above agreement(s)\" you declare that you have read this User Agreement, you understand the terms of this User Agreement, and you agree to be bound by this User Agreement on behalf of yourself and, if you are under the age of 18, on your behalf by your parent or legal guardian. Once you agree, you will be contractually bound to the terms below, which shall govern all aspects of your use of the Game. No one under the age of 13 may play the Game.If you reject this User Agreement, then you will not be authorized to play the Game. In that case, you may either return the Game to the place of purchase subject to that retailer\\'s guidelines, or you may contact Square Enix to request a full discretionary refund (which will not include shipping and handling) if all of the following conditions are met:You are unable to obtain a refund or exchange from the place of purchase; andYou request the refund within thirty (30) days of purchase; andYou have not already accepted this User Agreement; andYou have not already entered the Registration Code accompanying your copy of the Game; and You purchased your copy of the Licensed Software in, and are currently located in, the United States or Canada.\\nYour special attention is directed to Section 4, which concerns the auto-renewing subscription process.\\n1. YOUR LIMITED LICENSE TO THE GAME AND SERVICE AND LACK OF OWNERSHIP RIGHTS\\nThe Game includes software that is installed on your computer, as periodically updated by Square Enix (\"Licensed Software\"), as well as data that Square Enix maintains on its servers. Subject to your continued compliance with the conditions set forth in this User Agreement, Square Enix grants you a limited license to use the Game. In order to play the Game, in addition to this User Agreement, you must also agree to the FINAL FANTASY XIV Software License Agreement (\"License Agreement\"), which grants you a license to use the Licensed Software required to play the Game, the Square Enix Privacy Policy available at https://sqex.to/privacy_policy (\"Privacy Policy\"), and the Square Enix Account Terms of Use. The License Agreement, Privacy Policy and Square Enix Account Terms of Use are incorporated by reference into this User Agreement (collectively, the \"Agreements\"). The terms of this User Agreement supersede any conflicting terms in the FINAL FANTASY XIV User Manual.\\n\\nAll aspects of the Game (including but not limited to the Game computer code, updates, patches, expansion packs, characters, character names, character data, virtual items, character profile information, (non-personal) account information, chat transcripts, artwork, plot, dialogue, locations, sounds and music) are owned by Square Enix or its licensors. You do not have any property rights in the service account you use to play the Game (\"FINAL FANTASY XIV Service Account\" or \"FFXIV Service Account\").\\n\\nYOU ACQUIRE NO OWNERSHIP OR PROPERTY RIGHTS IN ANY CHARACTER OR OTHER IN-GAME VIRTUAL GOOD, AND ARE ONLY LICENSED TO USE SUCH CHARACTERS AND ASSETS ASSOCIATED WITH YOUR FFXIV SERVICE ACCOUNT SUBJECT TO THE CONDITIONS SET FORTH IN THE AGREEMENTS. YOU AGREE THAT YOUR FFXIV SERVICE ACCOUNT AND ANY VIRTUAL GOODS AND CHARACTERS DO NOT HAVE ANY MONETARY VALUE. SQUARE ENIX MAY SUSPEND, TERMINATE, MODIFY, OR DELETE FFXIV SERVICE ACCOUNTS, CHARACTERS, VIRTUAL GOODS, OR THE SERVICE ALTOGETHER, AT ANY TIME FOR ANY REASON OR FOR NO REASON, WITH OR WITHOUT NOTICE OR LIABILITY TO YOU.'"
      ]
     },
     "execution_count": 8,
     "metadata": {},
     "output_type": "execute_result"
    }
   ],
   "source": [
    "df['ARTICLE_TEXT'][0]"
   ]
  },
  {
   "cell_type": "markdown",
   "metadata": {},
   "source": [
    "separate text in sentences"
   ]
  },
  {
   "cell_type": "code",
   "execution_count": 9,
   "metadata": {},
   "outputs": [],
   "source": [
    "sentences=[]\n",
    "\n",
    "for s in df['ARTICLE_TEXT']:\n",
    "    sentences.append(sent_tokenize(s))\n",
    "    \n",
    "sentences = [y for x in sentences for y in x] # flatten list"
   ]
  },
  {
   "cell_type": "code",
   "execution_count": 10,
   "metadata": {},
   "outputs": [
    {
     "data": {
      "text/plain": [
       "['Welcome to FINAL FANTASY?',\n",
       " 'XIV (the \"Game\" or the \"Service\").',\n",
       " 'In order to play the Game, you (\"You\" or \"User\") must first agree to this FINAL FANTASY XIV User Agreement (\"User Agreement\") between you and Square Enix, Inc. (\"Square Enix\").',\n",
       " 'PLEASE READ THIS USER AGREEMENT CAREFULLY.',\n",
       " 'If you agree by checking the box next to the statement \"I accept the User Agreement\" or \"I accept the terms of the above agreement(s)\" you declare that you have read this User Agreement, you understand the terms of this User Agreement, and you agree to be bound by this User Agreement on behalf of yourself and, if you are under the age of 18, on your behalf by your parent or legal guardian.']"
      ]
     },
     "execution_count": 10,
     "metadata": {},
     "output_type": "execute_result"
    }
   ],
   "source": [
    "sentences[:5]"
   ]
  },
  {
   "cell_type": "markdown",
   "metadata": {},
   "source": [
    "Extract word vectors"
   ]
  },
  {
   "cell_type": "code",
   "execution_count": 11,
   "metadata": {},
   "outputs": [],
   "source": [
    "word_embeddings = {}\n",
    "f = open('D:/glove.6B/glove.6B.100d.txt', encoding='utf-8')\n",
    "for line in f:\n",
    "    values = line.split()\n",
    "    word = values[0]\n",
    "    coefs = np.asarray(values[1:], dtype='float32')\n",
    "    word_embeddings[word] = coefs\n",
    "f.close()"
   ]
  },
  {
   "cell_type": "code",
   "execution_count": 12,
   "metadata": {},
   "outputs": [
    {
     "data": {
      "text/plain": [
       "400000"
      ]
     },
     "execution_count": 12,
     "metadata": {},
     "output_type": "execute_result"
    }
   ],
   "source": [
    "len(word_embeddings)"
   ]
  },
  {
   "cell_type": "code",
   "execution_count": 13,
   "metadata": {},
   "outputs": [],
   "source": [
    "# remove punctuations, numbers and special characters\n",
    "clean_sentences = pd.Series(sentences).str.replace(\"[^a-zA-Z]\", \" \")\n",
    "\n",
    "# make alphabets lowercase\n",
    "clean_sentences = [s.lower() for s in clean_sentences]"
   ]
  },
  {
   "cell_type": "code",
   "execution_count": 14,
   "metadata": {},
   "outputs": [
    {
     "name": "stderr",
     "output_type": "stream",
     "text": [
      "[nltk_data] Downloading package stopwords to\n",
      "[nltk_data]     C:\\Users\\lsosa\\AppData\\Roaming\\nltk_data...\n",
      "[nltk_data]   Unzipping corpora\\stopwords.zip.\n"
     ]
    },
    {
     "data": {
      "text/plain": [
       "True"
      ]
     },
     "execution_count": 14,
     "metadata": {},
     "output_type": "execute_result"
    }
   ],
   "source": [
    "nltk.download('stopwords')"
   ]
  },
  {
   "cell_type": "code",
   "execution_count": 15,
   "metadata": {},
   "outputs": [],
   "source": [
    "from nltk.corpus import stopwords\n",
    "stop_words = stopwords.words('english')\n",
    "stop_words_esp=stopwords.words('spanish')\n",
    "\n",
    "# function to remove stopwords english\n",
    "def remove_stopwords(sen):\n",
    "    sen_new = \" \".join([i for i in sen if i not in stop_words])\n",
    "    return sen_new\n",
    "\n",
    "# function to remove stopwords spanish\n",
    "def remove_stopwords_esp(sen):\n",
    "    sen_new = \" \".join([i for i in sen if i not in stop_words_esp])\n",
    "    return sen_new\n"
   ]
  },
  {
   "cell_type": "code",
   "execution_count": 16,
   "metadata": {},
   "outputs": [],
   "source": [
    "clean_sentences = [remove_stopwords(r.split()) for r in clean_sentences]\n",
    "clean_sentences = [remove_stopwords_esp(r.split()) for r in clean_sentences]"
   ]
  },
  {
   "cell_type": "code",
   "execution_count": 17,
   "metadata": {},
   "outputs": [],
   "source": [
    "# Extract word vectors\n",
    "word_embeddings = {}\n",
    "f = open('D:/glove.6B/glove.6B.100d.txt', encoding='utf-8')\n",
    "for line in f:\n",
    "    values = line.split()\n",
    "    word = values[0]\n",
    "    coefs = np.asarray(values[1:], dtype='float32')\n",
    "    word_embeddings[word] = coefs\n",
    "f.close()"
   ]
  },
  {
   "cell_type": "code",
   "execution_count": 18,
   "metadata": {},
   "outputs": [],
   "source": [
    "sentence_vectors = []\n",
    "for i in clean_sentences:\n",
    "  if len(i) != 0:\n",
    "    v = sum([word_embeddings.get(w, np.zeros((100,))) for w in i.split()])/(len(i.split())+0.001)\n",
    "  else:\n",
    "    v = np.zeros((100,))\n",
    "  sentence_vectors.append(v)"
   ]
  },
  {
   "cell_type": "code",
   "execution_count": 19,
   "metadata": {},
   "outputs": [],
   "source": [
    "# similarity matrix\n",
    "sim_mat = np.zeros([len(sentences), len(sentences)])"
   ]
  },
  {
   "cell_type": "code",
   "execution_count": 20,
   "metadata": {},
   "outputs": [],
   "source": [
    "for i in range(len(sentences)):\n",
    "  for j in range(len(sentences)):\n",
    "    if i != j:\n",
    "      sim_mat[i][j] = cosine_similarity(sentence_vectors[i].reshape(1,100), sentence_vectors[j].reshape(1,100))[0,0]"
   ]
  },
  {
   "cell_type": "code",
   "execution_count": 21,
   "metadata": {},
   "outputs": [],
   "source": [
    "nx_graph = nx.from_numpy_array(sim_mat)\n",
    "scores = nx.pagerank(nx_graph,alpha=0.85, personalization=None, max_iter=200)\n",
    "\n",
    "#scores = nx.pagerank(nx_graph)"
   ]
  },
  {
   "cell_type": "code",
   "execution_count": 22,
   "metadata": {},
   "outputs": [],
   "source": [
    "ranked_sentences = sorted(((scores[i],s) for i,s in enumerate(sentences)), reverse=True)"
   ]
  },
  {
   "cell_type": "code",
   "execution_count": 25,
   "metadata": {},
   "outputs": [
    {
     "name": "stdout",
     "output_type": "stream",
     "text": [
      "You agree to indemnify and hold harmless Square Enix and its parent, subsidiaries, affiliates, partners, officers, employees and agents from any claim, demand, or loss (including reasonable attorney's fees and court costs) incurred due to your usage of the Game, your engagement in Prohibited Activities, and/or arising out of or related to content you submit, post, link to, transmit, or make available through the Game, your violation of this User Agreement, or your violation of any rights of another User.\n",
      "In its discretion, Square Enix may use a variety of methods to deal with violations of this User Agreement and the Prohibited Activities, including, but not limited to, any of the following:\n",
      "\n",
      "Issuing a warning;\n",
      "Placing a character in a \"virtual jail\" for a specified period of time;\n",
      "Removing or deleting ill-gotten in-game items or currency;\n",
      "Temporarily suspending an account;\n",
      "Permanently terminating an account;\n",
      "Permanently banning your IP address, residential address, or credit card number;\n",
      "Asserting a lawsuit for breach of contract, copyright infringement, or other cause of action as may be applicable; and/or\n",
      "Seeking injunctive relief in any court or jurisdiction to prevent you from continuing such activity.\n",
      "In addition, Square Enix shall be entitled to terminate any FFXIV Service Account (immediately and without notice) of any User who (1) was previously suspended or terminated by Square Enix and who Square Enix believes (in its sole discretion) re-registered using different registration information in order to circumvent or bypass such suspension or termination, or (2) Square Enix believes (in its sole discretion, based upon any information available, including registration and account information) that such User is enabling or assisting another User to conduct any Prohibited Activities of any kind.\n",
      "In that case, you may either return the Game to the place of purchase subject to that retailer's guidelines, or you may contact Square Enix to request a full discretionary refund (which will not include shipping and handling) if all of the following conditions are met:You are unable to obtain a refund or exchange from the place of purchase; andYou request the refund within thirty (30) days of purchase; andYou have not already accepted this User Agreement; andYou have not already entered the Registration Code accompanying your copy of the Game; and You purchased your copy of the Licensed Software in, and are currently located in, the United States or Canada.\n",
      "In order to play the Game, in addition to this User Agreement, you must also agree to the FINAL FANTASY XIV Software License Agreement (\"License Agreement\"), which grants you a license to use the Licensed Software required to play the Game, the Square Enix Privacy Policy available at https://sqex.to/privacy_policy (\"Privacy Policy\"), and the Square Enix Account Terms of Use.\n",
      "Notwithstanding the foregoing, if Square Enix revises the License Agreement or this User Agreement and you reject either when they are first presented to you for acceptance, you will be required to deactivate your FFXIV Service Account and will immediately lose access to the Game.\n",
      "Subject to your continued compliance with the conditions set forth in this User Agreement, Square Enix grants you a limited license to use the Game.\n",
      "SQUARE ENIX MAY SUSPEND, TERMINATE, MODIFY, OR DELETE FFXIV SERVICE ACCOUNTS, CHARACTERS, VIRTUAL GOODS, OR THE SERVICE ALTOGETHER, AT ANY TIME FOR ANY REASON OR FOR NO REASON, WITH OR WITHOUT NOTICE OR LIABILITY TO YOU.\n",
      "Square Enix may change fee rates at any time in its sole discretion, and will use reasonable efforts to notify you at least 30 days in advance of any changes to any Recurring Fees.\n",
      "This User Agreement, together with the License Agreement, the Square Enix Account Terms of Use, the Privacy Policy, and any other terms of use relevant to your use of the Game, such as the user manual, constitutes the entire understanding and agreement between the parties with respect to your use of the Game and supersedes any and all prior or contemporaneous oral or written communications with respect to the subject matter hereof, all of which are merged herein.\n",
      "Except for Excluded Disputes (as defined below in Section 10.5), if any controversy, allegation, or claim arises out of or relates to the Game, the Licensed Software, this FFXIV User Agreement, or any additional terms, whether heretofore or hereafter arising (collectively, \"Dispute\"), or to any of Square Enix's actual or alleged intellectual property rights, then you and we agree to send a written notice to the other providing a reasonable description of the Dispute, along with a proposed resolution of it.\n",
      "YOU ACQUIRE NO OWNERSHIP OR PROPERTY RIGHTS IN ANY CHARACTER OR OTHER IN-GAME VIRTUAL GOOD, AND ARE ONLY LICENSED TO USE SUCH CHARACTERS AND ASSETS ASSOCIATED WITH YOUR FFXIV SERVICE ACCOUNT SUBJECT TO THE CONDITIONS SET FORTH IN THE AGREEMENTS.\n",
      "Upon any termination of this User Agreement, the License Agreement or the Square Enix Account Terms of Use, you must uninstall, delete and/or destroy all copies of the Game (including all of its component parts) in your possession.\n",
      "You acknowledge that Square Enix will be monitoring your use of the Game to help you play the Game, for our internal analysis to help us improve our games and services, to investigate disruptive activities or Prohibited Activities, and to confirm that you are abiding by the terms of this User Agreement and related agreements.\n",
      "The user of the Buddy Pass will have to agree to a series of agreements, including but not limited to, the License Agreement, the Square Enix Account Terms of Use and this User Agreement in order to install and use the Licensed Software.\n"
     ]
    }
   ],
   "source": [
    "# Extract top 10 sentences as the summary\n",
    "for i in range(15):\n",
    "  print(ranked_sentences[i][1])"
   ]
  },
  {
   "cell_type": "code",
   "execution_count": null,
   "metadata": {},
   "outputs": [],
   "source": []
  }
 ],
 "metadata": {
  "kernelspec": {
   "display_name": "Python 3",
   "language": "python",
   "name": "python3"
  },
  "language_info": {
   "codemirror_mode": {
    "name": "ipython",
    "version": 3
   },
   "file_extension": ".py",
   "mimetype": "text/x-python",
   "name": "python",
   "nbconvert_exporter": "python",
   "pygments_lexer": "ipython3",
   "version": "3.8.8"
  }
 },
 "nbformat": 4,
 "nbformat_minor": 4
}
